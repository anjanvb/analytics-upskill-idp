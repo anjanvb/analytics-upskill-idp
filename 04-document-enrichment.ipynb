{
 "cells": [
  {
   "cell_type": "markdown",
   "metadata": {},
   "source": [
    "# Document Enrichment\n",
    "\n",
    "---\n",
    "\n",
    "## Setup Notebook\n",
    "\n",
    "We will be using the [Amazon Textract Parser Library](https://github.com/aws-samples/amazon-textract-response-parser/tree/master/src-python) for parsing through the Textract response, data science library [Pandas](https://pandas.pydata.org/pandas-docs/stable/reference/api/pandas.DataFrame.html) for content analysis, the [Amazon SageMaker Python SDK](https://sagemaker.readthedocs.io/en/stable/), and [AWS boto3 python sdk](https://boto3.amazonaws.com/v1/documentation/api/latest/index.html) to work with Amazon Textract and Amazon A2I. Let's now install and import them."
   ]
  },
  {
   "cell_type": "code",
   "execution_count": 3,
   "metadata": {
    "scrolled": true
   },
   "outputs": [
    {
     "name": "stdout",
     "output_type": "stream",
     "text": [
      "Collecting amazon-textract-overlayer\n",
      "  Using cached amazon_textract_overlayer-0.0.10-py2.py3-none-any.whl (9.4 kB)\n",
      "Collecting botocore\n",
      "  Using cached botocore-1.27.84-py3-none-any.whl (9.2 MB)\n",
      "Collecting Pillow>=9.2.*\n",
      "  Using cached Pillow-9.2.0-cp37-cp37m-manylinux_2_28_x86_64.whl (3.2 MB)\n",
      "Collecting PyPDF2>=2.5.*\n",
      "  Using cached PyPDF2-2.11.0-py3-none-any.whl (220 kB)\n",
      "Collecting amazon-textract-caller>=0.0.11\n",
      "  Using cached amazon_textract_caller-0.0.25-py2.py3-none-any.whl (12 kB)\n",
      "Collecting boto3\n",
      "  Using cached boto3-1.24.84-py3-none-any.whl (132 kB)\n",
      "Collecting amazon-textract-response-parser>=0.1.27\n",
      "  Using cached amazon_textract_response_parser-0.1.33-py2.py3-none-any.whl (26 kB)\n",
      "Collecting typing-extensions>=3.10.0.0\n",
      "  Using cached typing_extensions-4.3.0-py3-none-any.whl (25 kB)\n",
      "Collecting jmespath<2.0.0,>=0.7.1\n",
      "  Using cached jmespath-1.0.1-py3-none-any.whl (20 kB)\n",
      "Collecting s3transfer<0.7.0,>=0.6.0\n",
      "  Using cached s3transfer-0.6.0-py3-none-any.whl (79 kB)\n",
      "Collecting urllib3<1.27,>=1.25.4\n",
      "  Using cached urllib3-1.26.12-py2.py3-none-any.whl (140 kB)\n",
      "Collecting python-dateutil<3.0.0,>=2.1\n",
      "  Using cached python_dateutil-2.8.2-py2.py3-none-any.whl (247 kB)\n",
      "Collecting marshmallow==3.14.1\n",
      "  Using cached marshmallow-3.14.1-py3-none-any.whl (47 kB)\n",
      "Collecting six>=1.5\n",
      "  Using cached six-1.16.0-py2.py3-none-any.whl (11 kB)\n",
      "Installing collected packages: urllib3, typing-extensions, six, Pillow, marshmallow, jmespath, python-dateutil, PyPDF2, botocore, s3transfer, boto3, amazon-textract-response-parser, amazon-textract-caller, amazon-textract-overlayer\n",
      "  Attempting uninstall: urllib3\n",
      "    Found existing installation: urllib3 1.26.12\n",
      "    Uninstalling urllib3-1.26.12:\n",
      "      Successfully uninstalled urllib3-1.26.12\n",
      "  Attempting uninstall: typing-extensions\n",
      "    Found existing installation: typing_extensions 4.3.0\n",
      "    Uninstalling typing_extensions-4.3.0:\n",
      "      Successfully uninstalled typing_extensions-4.3.0\n",
      "  Attempting uninstall: six\n",
      "    Found existing installation: six 1.16.0\n",
      "    Uninstalling six-1.16.0:\n",
      "      Successfully uninstalled six-1.16.0\n",
      "  Attempting uninstall: Pillow\n",
      "    Found existing installation: Pillow 9.2.0\n",
      "    Uninstalling Pillow-9.2.0:\n",
      "      Successfully uninstalled Pillow-9.2.0\n",
      "  Attempting uninstall: marshmallow\n",
      "    Found existing installation: marshmallow 3.14.1\n",
      "    Uninstalling marshmallow-3.14.1:\n",
      "      Successfully uninstalled marshmallow-3.14.1\n",
      "  Attempting uninstall: jmespath\n",
      "    Found existing installation: jmespath 1.0.1\n",
      "    Uninstalling jmespath-1.0.1:\n",
      "      Successfully uninstalled jmespath-1.0.1\n",
      "  Attempting uninstall: python-dateutil\n",
      "    Found existing installation: python-dateutil 2.8.2\n",
      "    Uninstalling python-dateutil-2.8.2:\n",
      "      Successfully uninstalled python-dateutil-2.8.2\n",
      "  Attempting uninstall: PyPDF2\n",
      "    Found existing installation: PyPDF2 2.11.0\n",
      "    Uninstalling PyPDF2-2.11.0:\n",
      "      Successfully uninstalled PyPDF2-2.11.0\n",
      "  Attempting uninstall: botocore\n",
      "    Found existing installation: botocore 1.27.84\n",
      "    Uninstalling botocore-1.27.84:\n",
      "      Successfully uninstalled botocore-1.27.84\n",
      "  Attempting uninstall: s3transfer\n",
      "    Found existing installation: s3transfer 0.6.0\n",
      "    Uninstalling s3transfer-0.6.0:\n",
      "      Successfully uninstalled s3transfer-0.6.0\n",
      "  Attempting uninstall: boto3\n",
      "    Found existing installation: boto3 1.24.84\n",
      "    Uninstalling boto3-1.24.84:\n",
      "      Successfully uninstalled boto3-1.24.84\n",
      "  Attempting uninstall: amazon-textract-response-parser\n",
      "    Found existing installation: amazon-textract-response-parser 0.1.33\n",
      "    Uninstalling amazon-textract-response-parser-0.1.33:\n",
      "      Successfully uninstalled amazon-textract-response-parser-0.1.33\n",
      "  Attempting uninstall: amazon-textract-caller\n",
      "    Found existing installation: amazon-textract-caller 0.0.25\n",
      "    Uninstalling amazon-textract-caller-0.0.25:\n",
      "      Successfully uninstalled amazon-textract-caller-0.0.25\n",
      "  Attempting uninstall: amazon-textract-overlayer\n",
      "    Found existing installation: amazon-textract-overlayer 0.0.10\n",
      "    Uninstalling amazon-textract-overlayer-0.0.10:\n",
      "      Successfully uninstalled amazon-textract-overlayer-0.0.10\n",
      "\u001b[31mERROR: pip's dependency resolver does not currently take into account all the packages that are installed. This behaviour is the source of the following dependency conflicts.\n",
      "pytest-astropy 0.8.0 requires pytest-cov>=2.0, which is not installed.\n",
      "pytest-astropy 0.8.0 requires pytest-filter-subpackage>=0.1, which is not installed.\n",
      "conda 4.14.0 requires ruamel_yaml_conda>=0.11.14, which is not installed.\n",
      "docker-compose 1.29.2 requires PyYAML<6,>=3.10, but you have pyyaml 6.0 which is incompatible.\n",
      "awscli 1.25.63 requires botocore==1.27.62, but you have botocore 1.27.84 which is incompatible.\n",
      "awscli 1.25.63 requires PyYAML<5.5,>=3.10, but you have pyyaml 6.0 which is incompatible.\n",
      "awscli 1.25.63 requires rsa<4.8,>=3.1.2, but you have rsa 4.9 which is incompatible.\n",
      "aiobotocore 2.3.4 requires botocore<1.24.22,>=1.24.21, but you have botocore 1.27.84 which is incompatible.\u001b[0m\u001b[31m\n",
      "\u001b[0mSuccessfully installed Pillow-9.2.0 PyPDF2-2.11.0 amazon-textract-caller-0.0.25 amazon-textract-overlayer-0.0.10 amazon-textract-response-parser-0.1.33 boto3-1.24.84 botocore-1.27.84 jmespath-1.0.1 marshmallow-3.14.1 python-dateutil-2.8.2 s3transfer-0.6.0 six-1.16.0 typing-extensions-4.3.0 urllib3-1.26.12\n",
      "\u001b[33mWARNING: Running pip as the 'root' user can result in broken permissions and conflicting behaviour with the system package manager. It is recommended to use a virtual environment instead: https://pip.pypa.io/warnings/venv\u001b[0m\u001b[33m\n",
      "\u001b[0m"
     ]
    }
   ],
   "source": [
    "!python -m pip install amazon-textract-overlayer --force-reinstall"
   ]
  },
  {
   "cell_type": "code",
   "execution_count": 4,
   "metadata": {},
   "outputs": [],
   "source": [
    "from textractcaller.t_call import call_textract, Textract_Features, Textract_Types\n",
    "from textractprettyprinter.t_pretty_print import Textract_Pretty_Print, get_string, Pretty_Print_Table_Format\n",
    "from trp.trp2 import TDocument"
   ]
  },
  {
   "cell_type": "code",
   "execution_count": 5,
   "metadata": {
    "scrolled": true
   },
   "outputs": [
    {
     "name": "stdout",
     "output_type": "stream",
     "text": [
      "SageMaker role is: arn:aws:iam::710096454740:role/service-role/AmazonSageMaker-ExecutionRole-20220504T135260\n",
      "Default SageMaker Bucket: s3://sagemaker-us-east-1-710096454740\n"
     ]
    }
   ],
   "source": [
    "import boto3\n",
    "import botocore\n",
    "import sagemaker\n",
    "import os\n",
    "import io\n",
    "import datetime\n",
    "import json\n",
    "import pandas as pd\n",
    "from PIL import Image as PImage, ImageDraw\n",
    "from pathlib import Path\n",
    "import multiprocessing as mp\n",
    "from IPython.display import Image, display, HTML, JSON, IFrame\n",
    "from trp import Document\n",
    "\n",
    "# variables\n",
    "data_bucket = sagemaker.Session().default_bucket()\n",
    "region = boto3.session.Session().region_name\n",
    "account_id = boto3.client('sts').get_caller_identity().get('Account')\n",
    "\n",
    "os.environ[\"BUCKET\"] = data_bucket\n",
    "os.environ[\"REGION\"] = region\n",
    "role = sagemaker.get_execution_role()\n",
    "\n",
    "print(f\"SageMaker role is: {role}\\nDefault SageMaker Bucket: s3://{data_bucket}\")\n",
    "\n",
    "s3=boto3.client('s3')\n",
    "textract = boto3.client('textract', region_name=region)\n",
    "comprehend=boto3.client('comprehend', region_name=region)\n"
   ]
  },
  {
   "cell_type": "markdown",
   "metadata": {},
   "source": [
    "---\n",
    "## Redact PII in Medical Transcription letter\n",
    "\n",
    "In this step we will first detect PII (Personally Identifiable Information) in our sample Medical transcription letter. We will then extract the bounding box information for the detected PII entities and create redaction bounding boxes on the document.\n",
    "In order to obtain the bounding box geometry of all words from the document we will use a helper tool called `amazon-textract-overlayer`. See [documentation](https://github.com/aws-samples/amazon-textract-textractor/tree/master/overlayer) to learn more about `amazon-textract-overlayer`.\n",
    "\n",
    "Let's look at the un-redacted document -"
   ]
  },
  {
   "cell_type": "code",
   "execution_count": 7,
   "metadata": {},
   "outputs": [
    {
     "data": {
      "image/png": "[encoded data removed]",
      "text/plain": [
       "<IPython.core.display.Image object>"
      ]
     },
     "metadata": {
      "image/png": {
       "width": 900
      }
     },
     "output_type": "display_data"
    }
   ],
   "source": [
    "documentName = \"./dataset/document_samples/dr-note-sample.png\"\n",
    "display(Image(filename=documentName, width=900))"
   ]
  },
  {
   "cell_type": "markdown",
   "metadata": {},
   "source": [
    "### Detecting PII Entities\n",
    "\n",
    "Let's take a look at how to detect PII entities using Amazon Comprehend Detect PII Entities API. Amazon Comprehend's PII detection API uses a pre-trained NLP model that can detect most common PII entities such as NAME, AGE, ADDRESS, SSN, DATE and so on (for a full list see [documentation](https://docs.aws.amazon.com/comprehend/latest/dg/how-pii.html#how-pii-types))."
   ]
  },
  {
   "cell_type": "code",
   "execution_count": 8,
   "metadata": {},
   "outputs": [],
   "source": [
    "#upload to S3\n",
    "key='idp/textract/dr-note-sample.png'\n",
    "s3.upload_file(Filename='./dataset/document_samples/dr-note-sample.png', \n",
    "               Bucket=data_bucket, \n",
    "               Key=key)"
   ]
  },
  {
   "cell_type": "code",
   "execution_count": 9,
   "metadata": {
    "scrolled": true
   },
   "outputs": [
    {
     "data": {
      "text/plain": [
       "[{'Type': 'NAME', 'Text': 'Mateo Jackson, PhD'},\n",
       " {'Type': 'NAME', 'Text': 'John Doe'},\n",
       " {'Type': 'AGE', 'Text': '35'}]"
      ]
     },
     "execution_count": 9,
     "metadata": {},
     "output_type": "execute_result"
    }
   ],
   "source": [
    "resp = call_textract(input_document = f's3://{data_bucket}/idp/textract/dr-note-sample.png')\n",
    "text = get_string(textract_json=resp, output_type=[Textract_Pretty_Print.LINES])\n",
    "\n",
    "#Call Amazon Comprehend Detect PII Entities API\n",
    "entity_resp = comprehend.detect_pii_entities(Text=text, LanguageCode=\"en\")    \n",
    "\n",
    "pii = []\n",
    "for entity in entity_resp['Entities']:\n",
    "    pii_entity={}\n",
    "    pii_entity['Type'] = entity['Type']\n",
    "    pii_entity['Text'] = text[entity['BeginOffset']:entity['EndOffset']]\n",
    "    pii.append(pii_entity)\n",
    "pii "
   ]
  },
  {
   "cell_type": "markdown",
   "metadata": {},
   "source": [
    "---\n",
    "### Perform Document Enrichment\n",
    "\n",
    "Using a combination of Amazon Comprehend and Amazon Textract we can now perform some PII redaction on the Medical transcription document. Next we will define a helper function that will\n",
    "\n",
    "1. Call Amazon Textract to get the plain text information from the Paystub and the corresponding bounding box information since it is an image file\n",
    "2. Use the extracted text to call Amazon Comprehend's [Detect PII](https://docs.aws.amazon.com/comprehend/latest/dg/how-pii.html) API\n",
    "3. Use Python Pillow library to draw bounding box redactions on the original document\n",
    "4. Save the new enriched document with redactions to the file system"
   ]
  },
  {
   "cell_type": "markdown",
   "metadata": {},
   "source": [
    "### Detecting PII Entities\n",
    "\n",
    "Let's take a look at how to detect PII entities using Amazon Comprehend Detect PII Entities API. Amazon Comprehend's PII detection API uses a pre-trained NLP model that can detect most common PII entities such as NAME, AGE, ADDRESS, SSN, DATE and so on (for a full list see [documentation](https://docs.aws.amazon.com/comprehend/latest/dg/how-pii.html#how-pii-types))."
   ]
  },
  {
   "cell_type": "code",
   "execution_count": 10,
   "metadata": {
    "scrolled": true
   },
   "outputs": [],
   "source": [
    "from textractoverlayer.t_overlay import DocumentDimensions, get_bounding_boxes\n",
    "\n",
    "def redact_doc(s3document, localpath, redact_entities):\n",
    "    print(s3document)\n",
    "    try:\n",
    "        img = PImage.open(localpath)\n",
    "        draw = ImageDraw.Draw(img)\n",
    "\n",
    "        # Use call_textract to get bounding boxes\n",
    "        # call_textract without the features parameter uses Textract Detect text\n",
    "        resp = call_textract(input_document = s3document)\n",
    "        document_dimension:DocumentDimensions = DocumentDimensions(doc_width=img.size[0], doc_height=img.size[1])\n",
    "        overlay=[Textract_Types.LINE, Textract_Types.WORD, Textract_Types.FORM, Textract_Types.CELL, Textract_Types.KEY, Textract_Types.VALUE]\n",
    "        bounding_box_list = get_bounding_boxes(textract_json=resp, document_dimensions=[document_dimension], overlay_features=overlay)\n",
    "\n",
    "        print('Detecting entities...')\n",
    "                \n",
    "        text = get_string(textract_json=resp, output_type=[Textract_Pretty_Print.LINES])\n",
    "                \n",
    "        #detect PII Entities\n",
    "        entity_resp = comprehend.detect_pii_entities(Text=text, LanguageCode=\"en\")   \n",
    "\n",
    "        entities = []\n",
    "        for entity in entity_resp['Entities']:\n",
    "            pii_entity={}\n",
    "            pii_entity['Type'] = entity['Type']\n",
    "            pii_entity['Text'] = text[entity['BeginOffset']:entity['EndOffset']]\n",
    "            entities.append(pii_entity) \n",
    "        redactions = []\n",
    "\n",
    "        #collect the bounding boxes for the custom entities\n",
    "        for entity in entities:\n",
    "            entity_text = entity['Text']\n",
    "            entity_type = entity['Type']\n",
    "            for bbox in bounding_box_list:\n",
    "                if bbox.text in entity_text and entity_type in redact_entities:\n",
    "                        print(f'Found Entity: {entity_text}')\n",
    "                        redactions.append(bbox)\n",
    "        \n",
    "        #Perform redaction\n",
    "        for box in redactions:\n",
    "            draw.rectangle(xy=[box.xmin, box.ymin, box.xmax, box.ymax], fill=\"Black\")\n",
    "        \n",
    "        #Generate the redacted/enriched document file and save to file system\n",
    "        opfile = Path(localpath).stem\n",
    "        opfile = f'{opfile}_redacted.png'        \n",
    "        img.save(opfile)           \n",
    "        print(f'Done.... Redacted file saved: {opfile}')\n",
    "        return opfile\n",
    "    except Exception as e:\n",
    "        print(e)"
   ]
  },
  {
   "cell_type": "markdown",
   "metadata": {},
   "source": [
    "Now we can call this method and pass it the PII Entities we wish to perform redaction on. In this case, we will pass `NAME` and `AGE` for redaction."
   ]
  },
  {
   "cell_type": "code",
   "execution_count": 11,
   "metadata": {},
   "outputs": [
    {
     "name": "stdout",
     "output_type": "stream",
     "text": [
      "s3://sagemaker-us-east-1-710096454740/idp/textract/dr-note-sample.png\n",
      "Detecting entities...\n",
      "Found Entity: Mateo Jackson, PhD\n",
      "Found Entity: Mateo Jackson, PhD\n",
      "Found Entity: Mateo Jackson, PhD\n",
      "Found Entity: Mateo Jackson, PhD\n",
      "Found Entity: Mateo Jackson, PhD\n",
      "Found Entity: Mateo Jackson, PhD\n",
      "Found Entity: John Doe\n",
      "Found Entity: John Doe\n",
      "Found Entity: 35\n",
      "Done.... Redacted file saved: dr-note-sample_redacted.png\n"
     ]
    },
    {
     "data": {
      "text/plain": [
       "'dr-note-sample_redacted.png'"
      ]
     },
     "execution_count": 11,
     "metadata": {},
     "output_type": "execute_result"
    }
   ],
   "source": [
    "redact_doc(f's3://{data_bucket}/idp/textract/dr-note-sample.png','./dataset/document_samples/dr-note-sample.png',['NAME','NAME','AGE'])\n"
   ]
  },
  {
   "cell_type": "markdown",
   "metadata": {},
   "source": [
    "---\n",
    "#### Side-by-side comparison of un-redacted vs. redacted document."
   ]
  },
  {
   "cell_type": "code",
   "execution_count": 24,
   "metadata": {},
   "outputs": [
    {
     "data": {
      "text/html": [
       "\n",
       "    <table>\n",
       "    <tr> \n",
       "    <th style='text-align:center;color: yellow; font-size: 24px;'>Unredacted document</th>\n",
       "    <th style='text-align:center;color: yellow; font-size: 24px;'>Redacted document</th>\n",
       "    </tr>\n",
       "    <tr>\n",
       "        <td style='text-align:left;'><img src=./dataset/document_samples/dr-note-sample.png style=\"width:100%\"></img></td>\n",
       "        <td style='text-align:left;'><img src=dr-note-sample_redacted.png style=\"width:100%\"></img></td>\n",
       "    </tr>\n",
       "    </table>\n",
       "    "
      ],
      "text/plain": [
       "<IPython.core.display.HTML object>"
      ]
     },
     "execution_count": 24,
     "metadata": {},
     "output_type": "execute_result"
    }
   ],
   "source": [
    "bank_document_local='./dataset/document_samples/dr-note-sample.png'\n",
    "redacted_file='dr-note-sample_redacted.png'\n",
    "\n",
    "HTML(f\"\"\"\n",
    "    <table>\n",
    "    <tr> \n",
    "    <th style='text-align:center;color: yellow; font-size: 24px;'>Unredacted document</th>\n",
    "    <th style='text-align:center;color: yellow; font-size: 24px;'>Redacted document</th>\n",
    "    </tr>\n",
    "    <tr>\n",
    "        <td style='text-align:left;'><img src={bank_document_local} style=\"width:100%\"></img></td>\n",
    "        <td style='text-align:left;'><img src={redacted_file} style=\"width:100%\"></img></td>\n",
    "    </tr>\n",
    "    </table>\n",
    "    \"\"\")"
   ]
  },
  {
   "cell_type": "markdown",
   "metadata": {},
   "source": [
    "---\n",
    "# Conclusion\n",
    "\n",
    "In this notebook, we saw how we can perform document enrichment such as redacting PII information. We first detected PII entities in the document using Amazon comprehend's detect PII API. Once we were able to detect PII infromation in the document, we used Amazon Textract to obtain the bounding box information for the information that needs to be treated as a PII info and then we finally drew bounding box redactions on the document using an image library."
   ]
  },
  {
   "cell_type": "markdown",
   "metadata": {},
   "source": [
    "---\n",
    "# Cleanup\n",
    "\n",
    "In order to clean up the files uploaded into the S3 bucket, execute the following command. If you created this SageMaker Domain Studio environment manually then follow the SageMaker documentation to delete the Studio domain. If you created, the Studio Domain using a CloudFormation stack, delete the stack. If you are performing this lab as part of an instructor led workshop please follow instructions shared by the instructor."
   ]
  },
  {
   "cell_type": "code",
   "execution_count": null,
   "metadata": {},
   "outputs": [],
   "source": [
    "!aws s3 rm s3://{data_bucket}/idp/textract/ --recursive --exclude \"*\" --include \"textract/*\""
   ]
  }
 ],
 "metadata": {
  "instance_type": "ml.t3.medium",
  "kernelspec": {
   "display_name": "Python 3 (Data Science)",
   "language": "python",
   "name": "python3__SAGEMAKER_INTERNAL__arn:aws:sagemaker:us-east-1:081325390199:image/datascience-1.0"
  },
  "language_info": {
   "codemirror_mode": {
    "name": "ipython",
    "version": 3
   },
   "file_extension": ".py",
   "mimetype": "text/x-python",
   "name": "python",
   "nbconvert_exporter": "python",
   "pygments_lexer": "ipython3",
   "version": "3.7.10"
  }
 },
 "nbformat": 4,
 "nbformat_minor": 4
}
